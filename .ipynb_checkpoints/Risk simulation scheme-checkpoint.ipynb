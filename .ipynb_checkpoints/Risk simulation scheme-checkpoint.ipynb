{
 "cells": [
  {
   "cell_type": "markdown",
   "metadata": {},
   "source": [
    "## Monte Carlo simulation"
   ]
  },
  {
   "cell_type": "markdown",
   "metadata": {},
   "source": [
    "Developed by **NICHOLAS DOMINIC** (nicholas.dominic@binus.ac.id)"
   ]
  },
  {
   "cell_type": "code",
   "execution_count": 1,
   "metadata": {},
   "outputs": [],
   "source": [
    "from numpy import array, mean, std\n",
    "from scipy import stats\n",
    "from seaborn import distplot\n",
    "from warnings import filterwarnings as fw\n",
    "from matplotlib.pyplot import figure, savefig\n",
    "fw(\"ignore\")"
   ]
  },
  {
   "cell_type": "markdown",
   "metadata": {},
   "source": [
    "Certain variables:\n",
    "* Interest rate per month\n",
    "* Corporate first-year budget"
   ]
  },
  {
   "cell_type": "markdown",
   "metadata": {},
   "source": [
    "Uncertain variables:\n",
    "* Labor cost\n",
    "* Additional cost\n",
    "* First-year customer demand"
   ]
  },
  {
   "cell_type": "code",
   "execution_count": 2,
   "metadata": {},
   "outputs": [],
   "source": [
    "class ProbabilityDistribution:\n",
    "    def __init__(self):\n",
    "        pass\n",
    "                \n",
    "    def getdist_LaborCost(self):\n",
    "        \"\"\" Labor cost data has Discrete Distribution\n",
    "        return distribution of labor cost\n",
    "        \"\"\"\n",
    "        labor_cost_each_product = array([1500, 1550, 1600, 1650, 1700])\n",
    "        probability = (0.1, 0.2, 0.4, 0.2, 0.1)\n",
    "        dist = stats.rv_discrete(name='LaborCost', values=(labor_cost_each_product, probability))\n",
    "        return dist\n",
    "    \n",
    "    def getdist_AdditionalCost(self):\n",
    "        \"\"\"Additional cost data has Uniform Distribution\n",
    "        return distribution of part cost\n",
    "        \"\"\"\n",
    "        low, high = 1000, 1200\n",
    "        dist = stats.uniform(loc=low, scale=high-low)\n",
    "        return dist\n",
    "    \n",
    "    def getdist_FirstYearDemand(self):\n",
    "        \"\"\" First year demand is normally distributed\n",
    "        return distribution of first year demand\n",
    "        \"\"\"\n",
    "        mean, std = 30000, 1500\n",
    "        dist = stats.norm(loc=mean, scale=std)\n",
    "        return dist\n",
    "        \n",
    "    def getdist_AllUncertainParams(self):\n",
    "        dist_ModelUncertainParams = {}\n",
    "        dist_ModelUncertainParams['labor_cost'] = self.getdist_LaborCost()\n",
    "        dist_ModelUncertainParams['add_cost'] = self.getdist_AdditionalCost()\n",
    "        dist_ModelUncertainParams['demand'] = self.getdist_FirstYearDemand()\n",
    "        return dist_ModelUncertainParams\n",
    "    \n",
    "    def __str__(self):\n",
    "        return \"Probability Distribution\""
   ]
  },
  {
   "cell_type": "code",
   "execution_count": 3,
   "metadata": {},
   "outputs": [],
   "source": [
    "class RiskAnalysis:\n",
    "    def __init__(self, certain_params=None):\n",
    "        self.certain_params = certain_params\n",
    "        self.uncertain_params = ProbabilityDistribution().getdist_AllUncertainParams()\n",
    "     \n",
    "    def computer_uncertain_params(self, dist):\n",
    "        return dist.rvs(size=1)[0]\n",
    "    \n",
    "    def simulate(self, trial, _printResult):\n",
    "        cl = self.computer_uncertain_params(self.uncertain_params['labor_cost'])\n",
    "        ca = self.computer_uncertain_params(self.uncertain_params['add_cost'])\n",
    "        d = int(self.computer_uncertain_params(self.uncertain_params['demand']))\n",
    "        \n",
    "        # FORMULA (Objective Func)\n",
    "        netProfit = (self.certain_params['corporate_budget'] - cl - ca) - (d * (1 + self.certain_params['interest_rate']))\n",
    "        \n",
    "        if _printResult:\n",
    "            print('{0:5d} | {1:9d} | {2:5.2f} | {3:6d} | {4:10.2f}'.format(trial,cl,ca,d,netProfit))\n",
    "               \n",
    "        return netProfit\n",
    "        \n",
    "    def exec_simulation(self, n=10000, _printResult=False):\n",
    "        if _printResult:\n",
    "            print('{} | {} | {} | {} | {}'.format('Trial','LaborCost','PartCost','Demand','NetProfit'))\n",
    "            print(\"=\"*55)     \n",
    "        return [self.simulate(i+1, _printResult) for i in range(n)]\n",
    "    \n",
    "    def __str__(self):\n",
    "        return \"Risk Analysis\""
   ]
  },
  {
   "cell_type": "code",
   "execution_count": 4,
   "metadata": {
    "scrolled": true
   },
   "outputs": [
    {
     "name": "stdout",
     "output_type": "stream",
     "text": [
      "Trial | LaborCost | PartCost | Demand | NetProfit\n",
      "=======================================================\n",
      "    1 |      1550 | 1195.18 |  29654 |   10187.32\n",
      "    2 |      1650 | 1175.62 |  28186 |   11941.88\n",
      "    3 |      1650 | 1179.54 |  29666 |   10087.96\n",
      "    4 |      1600 | 1195.38 |  31069 |    8368.37\n",
      "    5 |      1500 | 1075.74 |  32354 |    6981.76\n",
      "    6 |      1500 | 1167.24 |  29643 |   10279.01\n",
      "    7 |      1700 | 1115.23 |  30061 |    9608.52\n",
      "    8 |      1550 | 1040.29 |  30263 |    9580.96\n",
      "    9 |      1550 | 1101.20 |  30822 |    8821.30\n",
      "   10 |      1650 | 1106.21 |  29001 |   10992.54\n",
      "   11 |      1650 | 1144.06 |  29979 |    9732.19\n",
      "   12 |      1600 | 1032.26 |  27728 |   12707.74\n",
      "   13 |      1600 | 1173.68 |  31834 |    7433.82\n",
      "   14 |      1500 | 1126.88 |  28662 |   11545.62\n",
      "   15 |      1550 | 1091.16 |  27830 |   12571.34\n",
      "   16 |      1550 | 1103.77 |  29853 |   10029.98\n",
      "   17 |      1650 | 1106.09 |  30837 |    8697.66\n",
      "   18 |      1550 | 1070.15 |  29949 |    9943.60\n",
      "   19 |      1600 | 1090.33 |  32633 |    6518.42\n",
      "   20 |      1600 | 1087.41 |  27476 |   12967.59\n",
      "   21 |      1550 | 1038.33 |  27866 |   12579.17\n",
      "   22 |      1650 | 1008.72 |  30934 |    8673.78\n",
      "   23 |      1650 | 1029.08 |  31630 |    7783.42\n",
      "   24 |      1500 | 1114.41 |  30512 |    9245.59\n",
      "   25 |      1550 | 1152.76 |  32321 |    6895.99\n",
      "   26 |      1700 | 1148.30 |  29407 |   10392.95\n",
      "   27 |      1550 | 1192.08 |  30550 |    9070.42\n",
      "   28 |      1650 | 1057.12 |  30106 |    9660.38\n",
      "   29 |      1550 | 1187.81 |  28938 |   11089.69\n",
      "   30 |      1550 | 1067.28 |  30786 |    8900.22\n",
      "   31 |      1500 | 1069.01 |  31344 |    8250.99\n",
      "   32 |      1700 | 1061.67 |  33215 |    5719.58\n",
      "   33 |      1550 | 1061.10 |  30927 |    8730.15\n",
      "   34 |      1500 | 1059.11 |  31007 |    8682.14\n",
      "   35 |      1550 | 1026.21 |  28675 |   11580.04\n",
      "   36 |      1650 | 1069.39 |  29039 |   10981.86\n",
      "   37 |      1600 | 1160.86 |  29367 |   10530.39\n",
      "   38 |      1600 | 1002.65 |  31601 |    7896.10\n",
      "   39 |      1600 | 1121.03 |  31156 |    8333.97\n",
      "   40 |      1600 | 1146.12 |  27154 |   13311.38\n",
      "   41 |      1500 | 1081.76 |  30710 |    9030.74\n",
      "   42 |      1700 | 1134.88 |  29871 |    9826.37\n",
      "   43 |      1550 | 1002.25 |  30243 |    9644.00\n",
      "   44 |      1550 | 1166.98 |  29820 |   10008.02\n",
      "   45 |      1600 | 1182.99 |  30363 |    9263.26\n",
      "   46 |      1550 | 1112.55 |  30373 |    9371.20\n",
      "   47 |      1600 | 1006.47 |  31149 |    8457.28\n",
      "   48 |      1600 | 1121.27 |  28652 |   11463.73\n",
      "   49 |      1500 | 1008.47 |  30794 |    8999.03\n",
      "   50 |      1650 | 1073.02 |  29909 |    9890.73\n",
      "   51 |      1600 | 1118.75 |  29703 |   10152.50\n",
      "   52 |      1550 | 1111.07 |  27158 |   13391.43\n",
      "   53 |      1550 | 1109.35 |  27181 |   13364.40\n",
      "   54 |      1600 | 1124.61 |  31615 |    7756.64\n",
      "   55 |      1600 | 1176.20 |  29237 |   10677.55\n",
      "   56 |      1650 | 1091.51 |  29306 |   10625.99\n",
      "   57 |      1550 | 1031.14 |  29563 |   10465.11\n",
      "   58 |      1600 | 1108.40 |  29965 |    9835.35\n",
      "   59 |      1650 | 1062.57 |  28687 |   11428.68\n",
      "   60 |      1600 | 1114.25 |  28365 |   11829.50\n",
      "   61 |      1600 | 1147.85 |  30109 |    9615.90\n",
      "   62 |      1600 | 1191.10 |  32286 |    6851.40\n",
      "   63 |      1550 | 1067.11 |  29314 |   10740.39\n",
      "   64 |      1500 | 1086.96 |  32598 |    6665.54\n",
      "   65 |      1600 | 1009.54 |  28472 |   11800.46\n",
      "   66 |      1650 | 1067.27 |  33230 |    5745.23\n",
      "   67 |      1550 | 1124.41 |  32402 |    6823.09\n",
      "   68 |      1600 | 1049.74 |  28355 |   11906.51\n",
      "   69 |      1600 | 1078.77 |  30268 |    9486.23\n",
      "   70 |      1650 | 1062.22 |  31499 |    7914.03\n",
      "   71 |      1600 | 1070.47 |  30398 |    9332.03\n",
      "   72 |      1700 | 1070.76 |  29693 |   10112.99\n",
      "   73 |      1600 | 1083.79 |  28637 |   11519.96\n",
      "   74 |      1500 | 1028.72 |  32900 |    6346.28\n",
      "   75 |      1600 | 1056.07 |  30007 |    9835.18\n",
      "   76 |      1550 | 1150.68 |  28991 |   11060.57\n",
      "   77 |      1700 | 1189.50 |  28510 |   11473.00\n",
      "   78 |      1650 | 1013.54 |  31174 |    8368.96\n",
      "   79 |      1650 | 1143.00 |  28991 |   10968.25\n",
      "   80 |      1600 | 1057.59 |  29056 |   11022.41\n",
      "   81 |      1700 | 1198.22 |  29582 |   10124.28\n",
      "   82 |      1550 | 1060.36 |  30846 |    8832.14\n",
      "   83 |      1550 | 1138.78 |  26689 |   13949.97\n",
      "   84 |      1550 | 1080.77 |  32083 |    7265.48\n",
      "   85 |      1600 | 1134.89 |  26865 |   13683.86\n",
      "   86 |      1500 | 1160.21 |  28850 |   11277.29\n",
      "   87 |      1600 | 1103.85 |  31858 |    7473.65\n",
      "   88 |      1650 | 1174.14 |  30468 |    9090.86\n",
      "   89 |      1700 | 1102.58 |  30670 |    8859.92\n",
      "   90 |      1650 | 1129.38 |  29221 |   10694.37\n",
      "   91 |      1600 | 1057.70 |  30098 |    9719.80\n",
      "   92 |      1650 | 1052.16 |  31230 |    8260.34\n",
      "   93 |      1700 | 1178.77 |  29290 |   10508.73\n",
      "   94 |      1650 | 1152.89 |  30194 |    9454.61\n",
      "   95 |      1700 | 1198.60 |  31702 |    7473.90\n",
      "   96 |      1650 | 1041.23 |  30355 |    9365.02\n",
      "   97 |      1600 | 1064.58 |  30184 |    9605.42\n",
      "   98 |      1600 | 1198.14 |  32102 |    7074.36\n",
      "   99 |      1500 | 1055.83 |  32207 |    7185.42\n",
      "  100 |      1500 | 1081.89 |  29937 |    9996.86\n",
      "Mean of NetProfit: 9702.720 \n",
      "Standard Deviation of NetProfit: 1822.114\n"
     ]
    }
   ],
   "source": [
    "model = RiskAnalysis(certain_params={'interest_rate':.25, 'corporate_budget':50000})\n",
    "netProfit_data = model.exec_simulation(_printResult=True, n=100)\n",
    "print(\"Mean of NetProfit: {:.3f} \\nStandard Deviation of NetProfit: {:.3f}\".format(mean(netProfit_data), std(netProfit_data)))"
   ]
  },
  {
   "cell_type": "code",
   "execution_count": 5,
   "metadata": {},
   "outputs": [
    {
     "data": {
      "image/png": "[encoded data removed]",
      "text/plain": [
       "<Figure size 576x360 with 1 Axes>"
      ]
     },
     "metadata": {
      "needs_background": "light"
     },
     "output_type": "display_data"
    }
   ],
   "source": [
    "N = 10000\n",
    "figure(figsize=(8, 5))\n",
    "ax = distplot(model.exec_simulation(_printResult=False, n=N),\n",
    "  bins=100,\n",
    "  kde=True,\n",
    "  color='xkcd:pale sky blue',\n",
    "  hist_kws={\"linewidth\": 15,'alpha':1},\n",
    "  kde_kws={\"color\": \"xkcd:bright blue\", \"lw\": 2, \"label\": \"KDE\"},)\n",
    "ax.set(xlabel='Net Profit', ylabel='Density')\n",
    "ax.set_xlim([1000, 18000])\n",
    "ax.set_title(\"{} trials\".format(N))\n",
    "ax.axvline(mean(netProfit_data),color=\"k\", linestyle='--')\n",
    "savefig(\"monte-carlo-simulation-{}.png\".format(N), dpi=1000, bbox_inches=\"tight\")"
   ]
  }
 ],
 "metadata": {
  "kernelspec": {
   "display_name": "Python 3",
   "language": "python",
   "name": "python3"
  },
  "language_info": {
   "codemirror_mode": {
    "name": "ipython",
    "version": 3
   },
   "file_extension": ".py",
   "mimetype": "text/x-python",
   "name": "python",
   "nbconvert_exporter": "python",
   "pygments_lexer": "ipython3",
   "version": "3.7.1"
  }
 },
 "nbformat": 4,
 "nbformat_minor": 2
}
